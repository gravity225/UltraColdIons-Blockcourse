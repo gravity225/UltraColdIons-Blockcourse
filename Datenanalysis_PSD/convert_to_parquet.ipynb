{
 "cells": [
  {
   "cell_type": "markdown",
   "metadata": {},
   "source": [
    "# Convert txt data obtained by the oscilloscope into parquet"
   ]
  },
  {
   "cell_type": "code",
   "execution_count": null,
   "metadata": {},
   "outputs": [
    {
     "name": "stdout",
     "output_type": "stream",
     "text": [
      "Die Datei calibrationcurve_fixed_frequency.csv wurde als Parquet-Datei gespeichert: C:\\Users\\samse\\Desktop\\Blockkurs\\07-UltracoldIons\\Repository\\Datenanalysis_PSD\\ParquetData\\calibrationcurve_fixed_frequency.parquet\n",
      "Die Datei fixed_f_0V_01.csv wurde als Parquet-Datei gespeichert: C:\\Users\\samse\\Desktop\\Blockkurs\\07-UltracoldIons\\Repository\\Datenanalysis_PSD\\ParquetData\\fixed_f_0V_01.parquet\n",
      "Die Datei fixed_f_0V_02.csv wurde als Parquet-Datei gespeichert: C:\\Users\\samse\\Desktop\\Blockkurs\\07-UltracoldIons\\Repository\\Datenanalysis_PSD\\ParquetData\\fixed_f_0V_02.parquet\n",
      "Die Datei fixed_f_0V_03.csv wurde als Parquet-Datei gespeichert: C:\\Users\\samse\\Desktop\\Blockkurs\\07-UltracoldIons\\Repository\\Datenanalysis_PSD\\ParquetData\\fixed_f_0V_03.parquet\n",
      "Die Datei fixed_f_0V_04.csv wurde als Parquet-Datei gespeichert: C:\\Users\\samse\\Desktop\\Blockkurs\\07-UltracoldIons\\Repository\\Datenanalysis_PSD\\ParquetData\\fixed_f_0V_04.parquet\n",
      "Die Datei fixed_f_0V_05.csv wurde als Parquet-Datei gespeichert: C:\\Users\\samse\\Desktop\\Blockkurs\\07-UltracoldIons\\Repository\\Datenanalysis_PSD\\ParquetData\\fixed_f_0V_05.parquet\n",
      "Die Datei fixed_f_0V_withoutCAVITY_01.csv wurde als Parquet-Datei gespeichert: C:\\Users\\samse\\Desktop\\Blockkurs\\07-UltracoldIons\\Repository\\Datenanalysis_PSD\\ParquetData\\fixed_f_0V_withoutCAVITY_01.parquet\n",
      "Die Datei fixed_f_0V_withoutCAVITY_02.csv wurde als Parquet-Datei gespeichert: C:\\Users\\samse\\Desktop\\Blockkurs\\07-UltracoldIons\\Repository\\Datenanalysis_PSD\\ParquetData\\fixed_f_0V_withoutCAVITY_02.parquet\n",
      "Die Datei fixed_f_0V_withoutCAVITY_03.csv wurde als Parquet-Datei gespeichert: C:\\Users\\samse\\Desktop\\Blockkurs\\07-UltracoldIons\\Repository\\Datenanalysis_PSD\\ParquetData\\fixed_f_0V_withoutCAVITY_03.parquet\n",
      "Die Datei OFD_noise_floor.csv wurde als Parquet-Datei gespeichert: C:\\Users\\samse\\Desktop\\Blockkurs\\07-UltracoldIons\\Repository\\Datenanalysis_PSD\\ParquetData\\OFD_noise_floor.parquet\n"
     ]
    }
   ],
   "source": [
    "import pandas as pd\n",
    "import os\n",
    "\n",
    "\n",
    "input_directory = \"C:\\\\Users\\\\samse\\\\Desktop\\\\Blockkurs\\\\07-UltracoldIons\\\\RAW_Data\"  \n",
    "\n",
    "\n",
    "output_directory = \"C:\\\\Users\\\\samse\\\\Desktop\\\\Blockkurs\\\\07-UltracoldIons\\\\Repository\\\\Datenanalysis_PSD\\\\ParquetData\"\n",
    "\n",
    "\n",
    "# Sicherstellen, dass das Zielverzeichnis existiert\n",
    "if not os.path.exists(output_directory):\n",
    "    print(f\"Das Verzeichnis {output_directory} existiert nicht. Es wird nun erstellt.\")\n",
    "    os.makedirs(output_directory)\n",
    "\n",
    "# Alle .txt-Dateien im Verzeichnis finden\n",
    "csv_files = [f for f in os.listdir(input_directory) if f.endswith(\".csv\")]\n",
    "\n",
    "# Durch alle .txt-Dateien im Verzeichnis gehen\n",
    "for csv_file in csv_files:\n",
    "    # Pfad zur aktuellen .txt-Datei erstellen\n",
    "    input_file = os.path.join(input_directory, csv_file)\n",
    "    \n",
    "    # Vollständigen Pfad für die Parquet-Datei erstellen (gleicher Name wie die .txt-Datei, aber mit .parquet-Erweiterung)\n",
    "    output_file = os.path.join(output_directory, csv_file.replace(\".csv\", \".parquet\"))\n",
    "    \n",
    "    # .txt-Datei einlesen, wobei die ersten 4 Zeilen übersprungen werden\n",
    "    df = pd.read_csv(input_file, skiprows=4)\n",
    "    \n",
    "    # DataFrame als Parquet-Datei speichern\n",
    "    df.to_parquet(output_file, index=False)\n",
    "\n",
    "    print(f\"Die Datei {csv_file} wurde als Parquet-Datei gespeichert: {output_file}\")\n"
   ]
  }
 ],
 "metadata": {
  "kernelspec": {
   "display_name": "Python 3",
   "language": "python",
   "name": "python3"
  },
  "language_info": {
   "codemirror_mode": {
    "name": "ipython",
    "version": 3
   },
   "file_extension": ".py",
   "mimetype": "text/x-python",
   "name": "python",
   "nbconvert_exporter": "python",
   "pygments_lexer": "ipython3",
   "version": "3.12.5"
  }
 },
 "nbformat": 4,
 "nbformat_minor": 2
}
